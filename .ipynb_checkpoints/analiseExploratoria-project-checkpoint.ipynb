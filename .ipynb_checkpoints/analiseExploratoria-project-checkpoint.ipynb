{
 "cells": [
  {
   "cell_type": "code",
   "execution_count": 69,
   "metadata": {},
   "outputs": [],
   "source": [
    "import pandas as pd\n",
    "import matplotlib.pyplot as plt\n",
    "from collections import OrderedDict\n",
    "plt.style.use(\"seaborn\")\n",
    "import numpy as np\n",
    "import seaborn as sns "
   ]
  },
  {
   "cell_type": "code",
   "execution_count": null,
   "metadata": {},
   "outputs": [],
   "source": [
    "# Using Jupyter-lab: load a excel multitabbed excell xlsx file\n",
    "workbook_url = 'https://github.com/microsoft/powerbi-desktop-samples/blob/main/AdventureWorks%20Sales%20Sample/AdventureWorks%20Sales.xlsx?raw=true'\n",
    "#single_df = pd.read_excel(workbook_url, sheet_name='Sales_data')\n",
    "all_dfs = pd.read_excel(workbook_url, sheet_name=None) # return all in a collections.OrderedDict\n",
    "indice = all_dfs.keys() # return  the dictionary keys names \n",
    "print(indice)"
   ]
  },
  {
   "cell_type": "code",
   "execution_count": null,
   "metadata": {},
   "outputs": [],
   "source": [
    "# valores = all_dfs.values()\n",
    "# print(valores)"
   ]
  },
  {
   "cell_type": "code",
   "execution_count": null,
   "metadata": {},
   "outputs": [],
   "source": [
    "for k in all_dfs:\n",
    "    print(\"------------------------------------------------\")\n",
    "    print(k)\n",
    "    print(\"------------------------------------------------\")\n",
    "    print(all_dfs[k].head())"
   ]
  },
  {
   "cell_type": "code",
   "execution_count": null,
   "metadata": {},
   "outputs": [],
   "source": [
    "indice"
   ]
  },
  {
   "cell_type": "code",
   "execution_count": null,
   "metadata": {},
   "outputs": [],
   "source": [
    "dfSales = all_dfs['Sales_data']\n",
    "dfSalesOrder = all_dfs['Sales Order_data']\n",
    "dfSalesTerritory = all_dfs['Sales Territory_data']\n",
    "dfReseller = all_dfs['Reseller_data']\n",
    "dfDate = all_dfs['Date_data']\n",
    "dfProduct = all_dfs['Product_data']\n",
    "dfCustomer = all_dfs['Customer_data']\n",
    "#dfSalesOrder.head()"
   ]
  },
  {
   "cell_type": "code",
   "execution_count": null,
   "metadata": {},
   "outputs": [],
   "source": [
    "# inner join\n",
    "dfnew = dfSales.merge(dfReseller, on=['ResellerKey'], how='inner').drop(['ResellerKey', 'Business Type', 'Postal Code', 'Reseller ID'], axis=1)"
   ]
  },
  {
   "cell_type": "code",
   "execution_count": null,
   "metadata": {},
   "outputs": [],
   "source": [
    "# put here 'cause formating date on every fields can take long time\n",
    "dfnew['OrderDateKey'] = dfnew['OrderDateKey'].apply(lambda x: pd.to_datetime(str(x), format='%Y%m%d'))\n",
    "dfnew['DueDateKey'] = dfnew['DueDateKey'].apply(lambda x: pd.to_datetime(str(x), format='%Y%m%d'))\n",
    "dfnew['ShipDateKey'] = dfnew['ShipDateKey'].apply(lambda x: pd.to_datetime(str(x), format='%Y%m%d'))\n",
    "dfnew = dfnew.rename(columns = {'OrderDateKey': \"Data-Pedido\", 'DueDateKey':'Data-Entrega', 'ShipDateKey':'Data-Envio'}, inplace = False)\n"
   ]
  },
  {
   "cell_type": "code",
   "execution_count": null,
   "metadata": {},
   "outputs": [],
   "source": [
    "# translating Columns names to my native language\n",
    "dfnew = dfnew.rename(columns = {'Reseller':'Revendedor', 'City':'Cidade-Venda', 'State-Province': 'Estado-Venda', 'Country-Region':'Pais-Venda'}, inplace = False)\n",
    "# and go on ...\n",
    "dfnew = dfnew.merge(dfSalesOrder, on=['SalesOrderLineKey'], how='inner').drop(['SalesOrderLineKey', 'Sales Order', 'Sales Order Line'], axis=1)\n",
    "dfnew = dfnew.rename(columns = {'Channel': \"Canal de Venda\"}, inplace = False)\n",
    "dfnew = dfnew.merge(dfCustomer, on=['CustomerKey'], how='inner').drop(['CustomerKey', 'Customer ID', 'Postal Code' ], axis=1)\n",
    "dfnew = dfnew.rename(columns = {'Customer': \"Cliente\", 'City':'Cidade-Venda', 'State-Province':'Estado-Venda', 'Country-Region':'Pais-Venda'}, inplace = False)\n",
    "dfnew = dfnew.merge(dfProduct, on=['ProductKey'], how='inner').drop(['ProductKey', 'SKU', 'Standard Cost'], axis=1)\n",
    "dfnew = dfnew.rename(columns = {'Product': \"Produto\", 'Color':'Cor', 'List Price':'Preço Listado', 'Model':'Modelo', 'Subcategory':'Sub-Categoria', 'Category':'Categoria'}, inplace = False)\n",
    "dfnew = dfnew.merge(dfSalesTerritory, on=['SalesTerritoryKey'], how='inner').drop(['SalesTerritoryKey'], axis=1)\n",
    "dfnew = dfnew.rename(columns = {'Region': \"Regional\", 'Country':'Setor', 'Group':'Grupo'}, inplace = False)\n",
    "dfnew = dfnew.rename(columns = {'Order Quantity':'Qtd. da Ordem', 'Unit Price':'Preço Unitário', 'Extended Amount':'Preço Total/Extendido', 'Unit Price Discount Pct':'Porcentagem de desconto de preço unitário', 'Product Standard Cost':'Custo Padrão do Produto', 'Total Product Cost':'Custo Total do Produto', 'Sales Amount':'Total de vendas'}, inplace = False)\n",
    "\n",
    "# dfnew['List Price'].equals(dfnew['Extended Amount'])\n",
    "dfnew.tail()"
   ]
  },
  {
   "cell_type": "code",
   "execution_count": null,
   "metadata": {},
   "outputs": [],
   "source": [
    "dfnew['Tempo Envio /Logística'] = (dfnew['Data-Entrega'] - dfnew['Data-Envio']).dt.days\n",
    "dfnew['Tempo Envio/Preparação'] = (dfnew['Data-Envio'] - dfnew['Data-Pedido']).dt.days\n",
    "dfnew['Tempo Envio/Total'] = (dfnew['Data-Entrega'] - dfnew['Data-Pedido'] ).dt.days\n",
    "dfnew['Lucro']  = dfnew['Preço Total/Extendido'] - dfnew['Custo Total do Produto']\n",
    "dfnew.head(4)"
   ]
  },
  {
   "cell_type": "code",
   "execution_count": null,
   "metadata": {},
   "outputs": [],
   "source": []
  },
  {
   "cell_type": "code",
   "execution_count": null,
   "metadata": {},
   "outputs": [],
   "source": [
    "# auxiliar function to check if has  columns with same content\n",
    "#dfnew['Product Standard Cost'].equals(dfnew['Standard Cost'])\n",
    "#dfnew['Extended Amount'].equals(dfnew['List Price'])\n",
    "#print(dfnew['Unit Price'].sum())\n",
    "#print(dfnew['Extended Amount'].sum())\n",
    "#print(dfnew['List Price'].sum())\n",
    "#print(dfnew['Unit Price'].sum())\n",
    "# dfnew.head()\n",
    "\n",
    "# CUSTO TOTAL\n",
    "round(dfnew[\"Custo Total do Produto\"].sum(), 2)"
   ]
  },
  {
   "cell_type": "code",
   "execution_count": null,
   "metadata": {},
   "outputs": [],
   "source": [
    "# VENDAS POR REGIÃO\n",
    "dfnew.groupby(\"Regional\")['Total de vendas'].sum()"
   ]
  },
  {
   "cell_type": "code",
   "execution_count": null,
   "metadata": {},
   "outputs": [],
   "source": [
    "#for key, value in all_dfs.items():\n",
    "#    print(key, \"----------------------------\\n\", value)\n",
    "# MÉDIA DO PRAZO DE ENTREGA POR CATEGORIA DE PRODUTO\n",
    "#dfnew.groupby(\"Categoria\")[\"Tempo Envio/Total\"].mean()\n",
    "#pd.options.display.float_format() = '{ :20, .2f}'.format\n",
    "\n",
    "# LUCRO ANUAL POR GRUPO\n",
    "lucro_ano = dfnew.groupby([dfnew['Data-Pedido'].dt.year, \"Grupo\"])['Lucro'].sum().reset_index()\n",
    "lucro_ano"
   ]
  },
  {
   "cell_type": "code",
   "execution_count": null,
   "metadata": {},
   "outputs": [],
   "source": [
    "dfnew.groupby([dfnew['Data-Pedido'].dt.year, \"Grupo\"])['Total de vendas'].sum().round(2)"
   ]
  },
  {
   "cell_type": "code",
   "execution_count": null,
   "metadata": {},
   "outputs": [],
   "source": [
    "# TOTAL DE PRODUTOS VENDIDOS\n",
    "dfnew.groupby('Produto')['Qtd. da Ordem'].sum().sort_values(ascending=False)"
   ]
  },
  {
   "cell_type": "code",
   "execution_count": null,
   "metadata": {},
   "outputs": [],
   "source": [
    "# GRÁFICO DO TOTAL DE PRODUTOS VENDIDOS\n",
    "# OS 10 MAIS VENDIDOS E OS  10 MENOS VENDIDOS\n",
    "dfplt_products10 = dfnew.groupby('Produto')['Qtd. da Ordem'].sum().sort_values(ascending=False).head(10)\n",
    "dfplt_products10 = dfplt_products10.append(dfnew.groupby('Produto')['Qtd. da Ordem'].sum().sort_values(ascending=False).tail(10))\n",
    "#\n",
    "dfplt_products10.plot.barh(title=\"Total de Produtos Vendidos (OS 10 menos vendidos e os 10 mais vendidos)\")\n",
    "plt.xlabel('Total')\n",
    "plt.ylabel( 'Produto');"
   ]
  },
  {
   "cell_type": "code",
   "execution_count": null,
   "metadata": {},
   "outputs": [],
   "source": [
    "data_pedido_s = dfnew['Data-Pedido'].dt.year\n",
    "#sns.barplot(x=data_pedido_s, \n",
    "#    y='Lucro',\n",
    "#    hue= \"Grupo\", \n",
    "#    data=dfnew, ci=None )\n",
    "#plt.ylabel(\"Total de Vendas em milhares de dolares\", size=14)\n",
    "#plt.xlabel(\"Education\", size=14)\n",
    "#plt.title(\"Grouped Barplot: Gender Bias in Salary\", size=18)\n",
    "#plt.savefig(\"grouped_barplot_Seaborn_barplot_Python.png\")\n",
    "dfnew.groupby(data_pedido_s)['Lucro'].sum().plot.bar(title=\"Lucro x Ano\")\n",
    "plt.xlabel(\"Ano\")\n",
    "plt.ylabel(\"Receita\");"
   ]
  },
  {
   "cell_type": "code",
   "execution_count": null,
   "metadata": {},
   "outputs": [],
   "source": [
    "dfnew.groupby(data_pedido_s)['Lucro'].sum()"
   ]
  },
  {
   "cell_type": "code",
   "execution_count": null,
   "metadata": {},
   "outputs": [],
   "source": [
    "df_2009 = dfnew[dfnew['Data-Pedido'].dt.year == 2019]\n",
    "df_2009.groupby(df_2009['Data-Pedido'].dt.month)['Lucro'].sum().plot(title=\"Lucro x Mês\")\n",
    "plt.xlabel('Mês')\n",
    "plt.ylabel('Lucro');"
   ]
  },
  {
   "cell_type": "code",
   "execution_count": null,
   "metadata": {},
   "outputs": [],
   "source": [
    "for col in dfnew.columns:\n",
    "    print(col)\n",
    "    \n",
    "# TODO: reorder this  ordereddict"
   ]
  },
  {
   "cell_type": "code",
   "execution_count": null,
   "metadata": {},
   "outputs": [],
   "source": [
    "print(dfnew.dtypes)"
   ]
  },
  {
   "cell_type": "code",
   "execution_count": null,
   "metadata": {},
   "outputs": [],
   "source": [
    "dfnew.isnull().sum()"
   ]
  },
  {
   "cell_type": "code",
   "execution_count": null,
   "metadata": {},
   "outputs": [],
   "source": [
    "dfnew  = dfnew[['Produto','Qtd. da Ordem','Data-Pedido', 'Data-Entrega','Data-Envio', 'Tempo Envio/Total', 'Preço Unitário', \n",
    "'Preço Total/Extendido','Porcentagem de desconto de preço unitário','Custo Padrão do Produto','Custo Total do Produto',\n",
    "'Total de vendas','Lucro','Revendedor','Cidade-Venda','Estado-Venda','Pais-Venda','Canal de Venda','Cliente','Cidade-Venda',\n",
    "'Estado-Venda','Pais-Venda','Cor','Preço Listado','Modelo','Sub-Categoria','Categoria','Regional','Setor','Grupo']]\n",
    "dfnew.head(2)"
   ]
  },
  {
   "cell_type": "code",
   "execution_count": null,
   "metadata": {},
   "outputs": [],
   "source": [
    "dfnew[ 'Tempo Envio/Total'].describe()"
   ]
  }
 ],
 "metadata": {
  "kernelspec": {
   "display_name": "Python 3",
   "language": "python",
   "name": "python3"
  },
  "language_info": {
   "codemirror_mode": {
    "name": "ipython",
    "version": 3
   },
   "file_extension": ".py",
   "mimetype": "text/x-python",
   "name": "python",
   "nbconvert_exporter": "python",
   "pygments_lexer": "ipython3",
   "version": "3.8.5"
  }
 },
 "nbformat": 4,
 "nbformat_minor": 4
}
